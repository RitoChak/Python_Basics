{
 "cells": [
  {
   "cell_type": "code",
   "execution_count": null,
   "id": "e01d214f",
   "metadata": {},
   "outputs": [],
   "source": [
    "#Find length of a given string without len() function\n",
    "\n",
    "s = input(\"Enter the string : \")\n",
    "\n",
    "counter = 0\n",
    "\n",
    "for i in s:\n",
    "    counter += 1\n",
    "\n",
    "print('Length of string is :', counter)"
   ]
  },
  {
   "cell_type": "code",
   "execution_count": null,
   "id": "3321e548",
   "metadata": {},
   "outputs": [],
   "source": [
    "#Extract username from a given email\n",
    "\n",
    "s = input('Enter your email ID :')\n",
    "\n",
    "pos = s.index('@')\n",
    "print('Username is :', s[0:pos])"
   ]
  },
  {
   "cell_type": "code",
   "execution_count": null,
   "id": "8bbeac1e",
   "metadata": {},
   "outputs": [],
   "source": [
    "#Count the frequency of a particular character in a provided string. \n",
    "# Eg 'hello how are you' is the string, the frequency of h in this string is 2.\n",
    "\n",
    "s = input('Enter the string: ')\n",
    "term = input('Enter the alphabet you like to search frequency for: ')\n",
    "\n",
    "counter = 0\n",
    "\n",
    "for i in s:\n",
    "    if i == term :\n",
    "        counter += 1\n",
    "print('Frequency of the alphabet: ', counter)"
   ]
  },
  {
   "cell_type": "code",
   "execution_count": null,
   "id": "9d0ab36a",
   "metadata": {},
   "outputs": [],
   "source": [
    "# Write a program which can remove a particular character from a string.\n",
    "\n",
    "s = input('Enter the string: ')\n",
    "term = input('What would like to remove: ')\n",
    "\n",
    "result = ''\n",
    "\n",
    "for i in s:\n",
    "    if i != term:\n",
    "        result = result + i\n",
    "print('Result', result)"
   ]
  },
  {
   "cell_type": "code",
   "execution_count": null,
   "id": "430b72c0",
   "metadata": {},
   "outputs": [],
   "source": [
    "# Write a program that can check whether a given string is palindrome or not.\n",
    "# abba\n",
    "# malayalam\n",
    "\n",
    "s = input('Enter the string: ')\n",
    "flag = True\n",
    "\n",
    "for i in range(0, len(s)//2):\n",
    "    if s[i] != s[len(s) - i - 1]:\n",
    "        flag = False\n",
    "        print('Not a palindrome')\n",
    "        break\n",
    "if flag:\n",
    "    print('Is a palindrome')"
   ]
  },
  {
   "cell_type": "code",
   "execution_count": null,
   "id": "ca76e903",
   "metadata": {},
   "outputs": [],
   "source": [
    "# Write a program to count the number of words in a string without split()\n",
    "\n",
    "s = input('Enter the string: ')\n",
    "\n",
    "L = []\n",
    "temp = ''\n",
    "for i in s:\n",
    "    if i != ' ':\n",
    "        temp = temp + i\n",
    "    else:\n",
    "        L.append(temp)\n",
    "        temp =''\n",
    "L.append(temp)\n",
    "print(L)"
   ]
  },
  {
   "cell_type": "code",
   "execution_count": 1,
   "id": "4edaaca0",
   "metadata": {},
   "outputs": [
    {
     "name": "stdout",
     "output_type": "stream",
     "text": [
      "Enter the string: Hi how are you ?\n",
      "Hi\n",
      "How\n",
      "Are\n",
      "You\n",
      "?\n"
     ]
    }
   ],
   "source": [
    "# Write a python program to convert a string to title case without using the title()\n",
    "\n",
    "s = input('Enter the string: ')\n",
    "\n",
    "for i in s.split():\n",
    "    print(i[0].upper() + i[1:].lower())"
   ]
  },
  {
   "cell_type": "code",
   "execution_count": null,
   "id": "72005bde",
   "metadata": {},
   "outputs": [],
   "source": [
    "s = input('Enter the string: ')\n",
    "\n",
    "for i in s.split():\n",
    "    print(i)"
   ]
  },
  {
   "cell_type": "code",
   "execution_count": 2,
   "id": "ba99cc59",
   "metadata": {},
   "outputs": [
    {
     "name": "stdout",
     "output_type": "stream",
     "text": [
      "Enter the string: Hi how are you ?\n",
      "['Hi', 'How', 'Are', 'You', '?']\n"
     ]
    }
   ],
   "source": [
    "s = input('Enter the string: ')\n",
    "\n",
    "L =[]\n",
    "for i in s.split():\n",
    "    L.append(i[0].upper() + i[1:].lower())\n",
    "print(L)"
   ]
  },
  {
   "cell_type": "code",
   "execution_count": 3,
   "id": "30c8bdf8",
   "metadata": {},
   "outputs": [
    {
     "name": "stdout",
     "output_type": "stream",
     "text": [
      "Enter the string: Hi how are you ?\n",
      "Hi How Are You ?\n"
     ]
    }
   ],
   "source": [
    "s = input('Enter the string: ')\n",
    "\n",
    "L =[]\n",
    "for i in s.split():\n",
    "    L.append(i[0].upper() + i[1:].lower())\n",
    "print(\" \".join(L))"
   ]
  },
  {
   "cell_type": "code",
   "execution_count": 7,
   "id": "84fb5e23",
   "metadata": {},
   "outputs": [
    {
     "name": "stdout",
     "output_type": "stream",
     "text": [
      "Enter a number: 09860\n",
      "9860\n",
      "<class 'str'>\n"
     ]
    }
   ],
   "source": [
    "# Write a program that can convert an integer to string.\n",
    "\n",
    "number = int(input('Enter a number: '))\n",
    "digits = '0123456789'\n",
    "result = ''\n",
    "while number != 0:\n",
    "    result = digits[number % 10] + result\n",
    "    number = number//10\n",
    "print(result)\n",
    "print(type(result))"
   ]
  },
  {
   "cell_type": "code",
   "execution_count": null,
   "id": "ec1a28e6",
   "metadata": {},
   "outputs": [],
   "source": []
  }
 ],
 "metadata": {
  "kernelspec": {
   "display_name": "Python 3 (ipykernel)",
   "language": "python",
   "name": "python3"
  },
  "language_info": {
   "codemirror_mode": {
    "name": "ipython",
    "version": 3
   },
   "file_extension": ".py",
   "mimetype": "text/x-python",
   "name": "python",
   "nbconvert_exporter": "python",
   "pygments_lexer": "ipython3",
   "version": "3.11.5"
  }
 },
 "nbformat": 4,
 "nbformat_minor": 5
}
