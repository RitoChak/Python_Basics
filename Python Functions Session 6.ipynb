{
 "cells": [
  {
   "cell_type": "markdown",
   "id": "493e0c2d",
   "metadata": {},
   "source": [
    "# Functions"
   ]
  },
  {
   "cell_type": "markdown",
   "id": "ba1fea2c",
   "metadata": {},
   "source": [
    "### Create a function (with docstring)"
   ]
  },
  {
   "cell_type": "code",
   "execution_count": 8,
   "id": "e66f3a47",
   "metadata": {},
   "outputs": [],
   "source": [
    "def is_even(num):\n",
    "    \"\"\"\n",
    "    This function returns if given number is odd or even\n",
    "    input - any valid integer\n",
    "    output - odd/even\n",
    "    \"\"\"\n",
    "    if type(num) == int:\n",
    "        if num%2 == 0:\n",
    "            return 'even'\n",
    "        else:\n",
    "            return 'odd'\n",
    "    else:\n",
    "        return 'Paagal hai kya'"
   ]
  },
  {
   "cell_type": "code",
   "execution_count": 9,
   "id": "496b6637",
   "metadata": {},
   "outputs": [
    {
     "name": "stdout",
     "output_type": "stream",
     "text": [
      "1 odd\n",
      "2 even\n",
      "3 odd\n",
      "4 even\n",
      "5 odd\n",
      "6 even\n",
      "7 odd\n",
      "8 even\n",
      "9 odd\n",
      "10 even\n"
     ]
    }
   ],
   "source": [
    "#function\n",
    "#function_name(input)\n",
    "\n",
    "for i in range(1,11):\n",
    "    x = is_even(i)\n",
    "    print (i, x)"
   ]
  },
  {
   "cell_type": "code",
   "execution_count": 10,
   "id": "abb67ac7",
   "metadata": {},
   "outputs": [
    {
     "name": "stdout",
     "output_type": "stream",
     "text": [
      "type(object) -> the object's type\n",
      "type(name, bases, dict, **kwds) -> a new type\n"
     ]
    }
   ],
   "source": [
    "print(type.__doc__)"
   ]
  },
  {
   "cell_type": "code",
   "execution_count": 11,
   "id": "d8884ade",
   "metadata": {},
   "outputs": [
    {
     "data": {
      "text/plain": [
       "'Paagal hai kya'"
      ]
     },
     "execution_count": 11,
     "metadata": {},
     "output_type": "execute_result"
    }
   ],
   "source": [
    "is_even('Hi')"
   ]
  },
  {
   "cell_type": "markdown",
   "id": "ca89cca0",
   "metadata": {},
   "source": [
    "# Parameters vs Arguments"
   ]
  },
  {
   "cell_type": "markdown",
   "id": "5f936fb6",
   "metadata": {},
   "source": [
    "### Types of Arguments\n",
    "- Default Argument\n",
    "- Positional Argument\n",
    "- Keyword Argument"
   ]
  },
  {
   "cell_type": "code",
   "execution_count": 18,
   "id": "fb53cc9f",
   "metadata": {},
   "outputs": [],
   "source": [
    "def power(a,b):\n",
    "    return a**b"
   ]
  },
  {
   "cell_type": "code",
   "execution_count": 19,
   "id": "ca70b2d1",
   "metadata": {},
   "outputs": [
    {
     "data": {
      "text/plain": [
       "8"
      ]
     },
     "execution_count": 19,
     "metadata": {},
     "output_type": "execute_result"
    }
   ],
   "source": [
    "power(2,3)"
   ]
  },
  {
   "cell_type": "code",
   "execution_count": 21,
   "id": "47490ad3",
   "metadata": {},
   "outputs": [
    {
     "ename": "TypeError",
     "evalue": "power() missing 1 required positional argument: 'b'",
     "output_type": "error",
     "traceback": [
      "\u001b[0;31m---------------------------------------------------------------------------\u001b[0m",
      "\u001b[0;31mTypeError\u001b[0m                                 Traceback (most recent call last)",
      "Cell \u001b[0;32mIn[21], line 1\u001b[0m\n\u001b[0;32m----> 1\u001b[0m power(\u001b[38;5;241m2\u001b[39m)\n",
      "\u001b[0;31mTypeError\u001b[0m: power() missing 1 required positional argument: 'b'"
     ]
    }
   ],
   "source": [
    "power(2) #Only one value given"
   ]
  },
  {
   "cell_type": "markdown",
   "id": "e64dbb6e",
   "metadata": {},
   "source": [
    "### Default argument"
   ]
  },
  {
   "cell_type": "code",
   "execution_count": 27,
   "id": "39b406c7",
   "metadata": {},
   "outputs": [],
   "source": [
    "#Default argument\n",
    "\n",
    "def power(a=1, b=1):\n",
    "    \"\"\"\n",
    "    Gives a to the power b as output\n",
    "    \"\"\"\n",
    "    return a**b"
   ]
  },
  {
   "cell_type": "code",
   "execution_count": 28,
   "id": "c35d6e21",
   "metadata": {},
   "outputs": [
    {
     "data": {
      "text/plain": [
       "2"
      ]
     },
     "execution_count": 28,
     "metadata": {},
     "output_type": "execute_result"
    }
   ],
   "source": [
    "power(2)"
   ]
  },
  {
   "cell_type": "markdown",
   "id": "f2db01fa",
   "metadata": {},
   "source": [
    "### Positional argument"
   ]
  },
  {
   "cell_type": "code",
   "execution_count": 29,
   "id": "b0ad0932",
   "metadata": {},
   "outputs": [],
   "source": [
    "# why power(2,3) is 8, not 9"
   ]
  },
  {
   "cell_type": "code",
   "execution_count": 30,
   "id": "52e1d96d",
   "metadata": {},
   "outputs": [],
   "source": [
    "#positional argument\n",
    "\n",
    "#The order you input, it gets assigned that way"
   ]
  },
  {
   "cell_type": "markdown",
   "id": "8421daa4",
   "metadata": {},
   "source": [
    "### Keyword argument"
   ]
  },
  {
   "cell_type": "code",
   "execution_count": 31,
   "id": "e927fa8a",
   "metadata": {},
   "outputs": [
    {
     "data": {
      "text/plain": [
       "8"
      ]
     },
     "execution_count": 31,
     "metadata": {},
     "output_type": "execute_result"
    }
   ],
   "source": [
    "power(b=3,a=2)"
   ]
  },
  {
   "cell_type": "code",
   "execution_count": 32,
   "id": "289d640c",
   "metadata": {},
   "outputs": [],
   "source": [
    "#although 3 went first, but was assigned to b keyword"
   ]
  },
  {
   "cell_type": "markdown",
   "id": "70f8804a",
   "metadata": {},
   "source": [
    "# *args (arguments)  and **kwargs (keyword-arguments)"
   ]
  },
  {
   "cell_type": "code",
   "execution_count": 48,
   "id": "47b58b83",
   "metadata": {},
   "outputs": [],
   "source": [
    "# *args and **kwargs are special python keyword that are used to passs the variable length of argument to a function"
   ]
  },
  {
   "cell_type": "code",
   "execution_count": 49,
   "id": "eae8ebdc",
   "metadata": {},
   "outputs": [],
   "source": [
    "# *args\n",
    "# allows us to pass a variable number of non-keyword arguments to a function"
   ]
  },
  {
   "cell_type": "code",
   "execution_count": 50,
   "id": "24c2e31d",
   "metadata": {},
   "outputs": [],
   "source": [
    "def multiply(a,b,c): # 3 inputs are given\n",
    "    return a*b*c"
   ]
  },
  {
   "cell_type": "code",
   "execution_count": 51,
   "id": "d51a369a",
   "metadata": {},
   "outputs": [
    {
     "data": {
      "text/plain": [
       "24"
      ]
     },
     "execution_count": 51,
     "metadata": {},
     "output_type": "execute_result"
    }
   ],
   "source": [
    "multiply(2,3,4)"
   ]
  },
  {
   "cell_type": "code",
   "execution_count": 52,
   "id": "e57acda4",
   "metadata": {},
   "outputs": [],
   "source": [
    "# if the number of inputs are unknown, we use *args\n",
    "\n",
    "def multiply(*args): # *args handles all the variable no of inputs\n",
    "    product = 1\n",
    "    \n",
    "    for i in args:\n",
    "        product = product * i\n",
    "        \n",
    "    return product"
   ]
  },
  {
   "cell_type": "code",
   "execution_count": 53,
   "id": "2f5f43e1",
   "metadata": {},
   "outputs": [
    {
     "data": {
      "text/plain": [
       "720"
      ]
     },
     "execution_count": 53,
     "metadata": {},
     "output_type": "execute_result"
    }
   ],
   "source": [
    "multiply(1,2,3,4,5,6)"
   ]
  },
  {
   "cell_type": "code",
   "execution_count": 54,
   "id": "04454707",
   "metadata": {},
   "outputs": [],
   "source": [
    "# in place of *args, you can use and word with a *"
   ]
  },
  {
   "cell_type": "code",
   "execution_count": 55,
   "id": "c6c30b0e",
   "metadata": {},
   "outputs": [],
   "source": [
    "# **kwargs\n",
    "# allows us to pass any number of keyword arguments to a function\n",
    "# Keyword arguments mean that the contain a key-value pair, like a python dictionary"
   ]
  },
  {
   "cell_type": "code",
   "execution_count": 56,
   "id": "1eec0994",
   "metadata": {},
   "outputs": [],
   "source": [
    "def display(**kwargs):\n",
    "    for (key,value) in kwargs.items():\n",
    "        print(key, '->', value)"
   ]
  },
  {
   "cell_type": "code",
   "execution_count": 57,
   "id": "e7bb8aff",
   "metadata": {},
   "outputs": [
    {
     "name": "stdout",
     "output_type": "stream",
     "text": [
      "India -> Delhi\n",
      "Srilanka -> Colombo\n",
      "Nepal -> Kathmandu\n"
     ]
    }
   ],
   "source": [
    "display(India='Delhi', Srilanka='Colombo', Nepal='Kathmandu')"
   ]
  },
  {
   "cell_type": "markdown",
   "id": "10c528e9",
   "metadata": {},
   "source": [
    "### Points to remember while using *args and **kwargs\n",
    "- order of the arguments matters (normal -> *args -> **kwargs)\n",
    "- The words “args” and “kwargs” are only a convention, you can use any name of your choice"
   ]
  },
  {
   "cell_type": "markdown",
   "id": "5362b665",
   "metadata": {},
   "source": [
    "### Without return statement"
   ]
  },
  {
   "cell_type": "code",
   "execution_count": 58,
   "id": "307a2c7f",
   "metadata": {},
   "outputs": [],
   "source": [
    "#python still sends default return value 'None'"
   ]
  },
  {
   "cell_type": "code",
   "execution_count": 61,
   "id": "9e8ca1ed",
   "metadata": {},
   "outputs": [
    {
     "name": "stdout",
     "output_type": "stream",
     "text": [
      "None\n",
      "[1, 2, 3, 4]\n"
     ]
    }
   ],
   "source": [
    "L =[1,2,3]\n",
    "print(L.append(4)) #returns none\n",
    "print(L)"
   ]
  },
  {
   "cell_type": "markdown",
   "id": "b4695b78",
   "metadata": {},
   "source": [
    "# Variable scope"
   ]
  },
  {
   "cell_type": "code",
   "execution_count": 62,
   "id": "ff63029b",
   "metadata": {},
   "outputs": [
    {
     "name": "stdout",
     "output_type": "stream",
     "text": [
      "5\n",
      "6\n",
      "5\n"
     ]
    }
   ],
   "source": [
    "def g(y): # y is a local variable, inside the function\n",
    "    print(x)\n",
    "    print(x+1)\n",
    "x = 5  # x is a global variable, it's in the main program scope\n",
    "g(x)\n",
    "print(x)"
   ]
  },
  {
   "cell_type": "code",
   "execution_count": 63,
   "id": "1ebeebc7",
   "metadata": {},
   "outputs": [],
   "source": [
    "# Function can use global variable, but main program can't use local variable"
   ]
  },
  {
   "cell_type": "code",
   "execution_count": 64,
   "id": "9bc6c4f6",
   "metadata": {},
   "outputs": [
    {
     "name": "stdout",
     "output_type": "stream",
     "text": [
      "2\n",
      "5\n"
     ]
    }
   ],
   "source": [
    "def f(y):\n",
    "    x = 1    # x is local here, so doesn't matter what global variable value is\n",
    "    x += 1   # x is local here\n",
    "    print(x)\n",
    "x = 5        # here x is a global variable\n",
    "f(x)\n",
    "print(x)"
   ]
  },
  {
   "cell_type": "code",
   "execution_count": 66,
   "id": "4bba97e6",
   "metadata": {},
   "outputs": [
    {
     "ename": "UnboundLocalError",
     "evalue": "cannot access local variable 'x' where it is not associated with a value",
     "output_type": "error",
     "traceback": [
      "\u001b[0;31m---------------------------------------------------------------------------\u001b[0m",
      "\u001b[0;31mUnboundLocalError\u001b[0m                         Traceback (most recent call last)",
      "Cell \u001b[0;32mIn[66], line 4\u001b[0m\n\u001b[1;32m      2\u001b[0m     x \u001b[38;5;241m+\u001b[39m\u001b[38;5;241m=\u001b[39m \u001b[38;5;241m1\u001b[39m  \u001b[38;5;66;03m#you can use global variable, but CANNOT CHANGE !!!\u001b[39;00m\n\u001b[1;32m      3\u001b[0m x \u001b[38;5;241m=\u001b[39m \u001b[38;5;241m5\u001b[39m\n\u001b[0;32m----> 4\u001b[0m h(x)\n\u001b[1;32m      5\u001b[0m \u001b[38;5;28mprint\u001b[39m(x)\n",
      "Cell \u001b[0;32mIn[66], line 2\u001b[0m, in \u001b[0;36mh\u001b[0;34m(y)\u001b[0m\n\u001b[1;32m      1\u001b[0m \u001b[38;5;28;01mdef\u001b[39;00m \u001b[38;5;21mh\u001b[39m(y):\n\u001b[0;32m----> 2\u001b[0m     x \u001b[38;5;241m+\u001b[39m\u001b[38;5;241m=\u001b[39m \u001b[38;5;241m1\u001b[39m\n",
      "\u001b[0;31mUnboundLocalError\u001b[0m: cannot access local variable 'x' where it is not associated with a value"
     ]
    }
   ],
   "source": [
    "def h(y):\n",
    "    x += 1  #you can use global variable, but CANNOT CHANGE !!!\n",
    "x = 5\n",
    "h(x)\n",
    "print(x)"
   ]
  },
  {
   "cell_type": "code",
   "execution_count": 68,
   "id": "820b8c10",
   "metadata": {},
   "outputs": [
    {
     "name": "stdout",
     "output_type": "stream",
     "text": [
      "6\n"
     ]
    }
   ],
   "source": [
    "#using global keyword, we can use : but don't\n",
    "def h(y):\n",
    "    global x\n",
    "    x += 1  #you can use global variable, but CANNOT CHANGE !!!\n",
    "x = 5\n",
    "h(x)\n",
    "print(x)"
   ]
  },
  {
   "cell_type": "code",
   "execution_count": 69,
   "id": "18f972a8",
   "metadata": {},
   "outputs": [
    {
     "name": "stdout",
     "output_type": "stream",
     "text": [
      "in f(x): x = 4\n",
      "in main program scope: z = 4\n",
      "in main program scope: x = 3\n"
     ]
    }
   ],
   "source": [
    "def f(x):\n",
    "   x = x + 1\n",
    "   print('in f(x): x =', x)\n",
    "   return x\n",
    "\n",
    "x = 3\n",
    "z = f(x)\n",
    "print('in main program scope: z =', z)\n",
    "print('in main program scope: x =', x)"
   ]
  },
  {
   "cell_type": "markdown",
   "id": "0033f832",
   "metadata": {},
   "source": [
    "# Nested Functions"
   ]
  },
  {
   "cell_type": "code",
   "execution_count": 72,
   "id": "48c0062d",
   "metadata": {},
   "outputs": [],
   "source": [
    "def f():\n",
    "    def g():\n",
    "        print('inside function g')\n",
    "    g()\n",
    "    print('inside function f')"
   ]
  },
  {
   "cell_type": "code",
   "execution_count": 73,
   "id": "7b5e13ef",
   "metadata": {},
   "outputs": [
    {
     "name": "stdout",
     "output_type": "stream",
     "text": [
      "inside function g\n",
      "inside function f\n"
     ]
    }
   ],
   "source": [
    "f()"
   ]
  },
  {
   "cell_type": "code",
   "execution_count": 76,
   "id": "aa0708ec",
   "metadata": {},
   "outputs": [],
   "source": [
    "def f():\n",
    "  def g():\n",
    "    print('inside function g')\n",
    "    f()\n",
    "  g()            # inner function can only be called by the outer function, not by main program\n",
    "  print('inside function f')"
   ]
  },
  {
   "cell_type": "code",
   "execution_count": 75,
   "id": "49c82b83",
   "metadata": {},
   "outputs": [
    {
     "ename": "TypeError",
     "evalue": "g() missing 1 required positional argument: 'y'",
     "output_type": "error",
     "traceback": [
      "\u001b[0;31m---------------------------------------------------------------------------\u001b[0m",
      "\u001b[0;31mTypeError\u001b[0m                                 Traceback (most recent call last)",
      "Cell \u001b[0;32mIn[75], line 1\u001b[0m\n\u001b[0;32m----> 1\u001b[0m g()\n",
      "\u001b[0;31mTypeError\u001b[0m: g() missing 1 required positional argument: 'y'"
     ]
    }
   ],
   "source": [
    "g()"
   ]
  },
  {
   "cell_type": "code",
   "execution_count": 82,
   "id": "b0267081",
   "metadata": {},
   "outputs": [
    {
     "name": "stdout",
     "output_type": "stream",
     "text": [
      "in g(x): x = 4\n"
     ]
    }
   ],
   "source": [
    "def g(x):\n",
    "    def h():\n",
    "        x = 'abc'\n",
    "    x = x + 1\n",
    "    print('in g(x): x =', x)\n",
    "    h()\n",
    "    return x\n",
    "\n",
    "x = 3\n",
    "z = g(x)"
   ]
  },
  {
   "cell_type": "code",
   "execution_count": 79,
   "id": "f86d1eaf",
   "metadata": {},
   "outputs": [
    {
     "name": "stdout",
     "output_type": "stream",
     "text": [
      "in g(x): x =  4\n",
      "in h(x): x =  5\n",
      "in main program scope: x =  3\n",
      "in main program scope: z =  4\n"
     ]
    }
   ],
   "source": [
    "def g(x):\n",
    "    def h(x):\n",
    "        x = x+1\n",
    "        print(\"in h(x): x = \", x)\n",
    "    x = x + 1\n",
    "    print('in g(x): x = ', x)\n",
    "    h(x)\n",
    "    return x\n",
    "\n",
    "x = 3\n",
    "z = g(x)\n",
    "print('in main program scope: x = ', x)\n",
    "print('in main program scope: z = ', z)"
   ]
  },
  {
   "cell_type": "markdown",
   "id": "a4ca1d21",
   "metadata": {},
   "source": [
    "# Functions in python are a First-Class citizens"
   ]
  },
  {
   "cell_type": "markdown",
   "id": "dc85797c",
   "metadata": {},
   "source": [
    "#Functions can perform all the things that lists or dictionaries or tuples do : such as type of function, \n",
    "#id of function"
   ]
  },
  {
   "cell_type": "code",
   "execution_count": 95,
   "id": "65b06f14",
   "metadata": {},
   "outputs": [
    {
     "name": "stdout",
     "output_type": "stream",
     "text": [
      "<class 'function'>\n",
      "4415117152\n"
     ]
    }
   ],
   "source": [
    "# type and id\n",
    "def square(num):\n",
    "  return num**2\n",
    "\n",
    "print(type(square))\n",
    "\n",
    "print(id(square))"
   ]
  },
  {
   "cell_type": "code",
   "execution_count": 98,
   "id": "e5fd1940",
   "metadata": {},
   "outputs": [
    {
     "name": "stdout",
     "output_type": "stream",
     "text": [
      "4415117152\n"
     ]
    },
    {
     "data": {
      "text/plain": [
       "9"
      ]
     },
     "execution_count": 98,
     "metadata": {},
     "output_type": "execute_result"
    }
   ],
   "source": [
    "# reassign\n",
    "x = square\n",
    "print(id(x))\n",
    "x(3)     # square and x are same due to reassignment"
   ]
  },
  {
   "cell_type": "code",
   "execution_count": 94,
   "id": "1ad8e288",
   "metadata": {},
   "outputs": [
    {
     "ename": "NameError",
     "evalue": "name 'square' is not defined",
     "output_type": "error",
     "traceback": [
      "\u001b[0;31m---------------------------------------------------------------------------\u001b[0m",
      "\u001b[0;31mNameError\u001b[0m                                 Traceback (most recent call last)",
      "Cell \u001b[0;32mIn[94], line 3\u001b[0m\n\u001b[1;32m      1\u001b[0m \u001b[38;5;66;03m# deleting a function\u001b[39;00m\n\u001b[1;32m      2\u001b[0m \u001b[38;5;28;01mdel\u001b[39;00m square \u001b[38;5;66;03m#yes you can do\u001b[39;00m\n\u001b[0;32m----> 3\u001b[0m square(\u001b[38;5;241m3\u001b[39m)\n",
      "\u001b[0;31mNameError\u001b[0m: name 'square' is not defined"
     ]
    }
   ],
   "source": [
    "# deleting a function\n",
    "del square #yes you can do\n",
    "square(3)"
   ]
  },
  {
   "cell_type": "code",
   "execution_count": 100,
   "id": "7ecf404f",
   "metadata": {},
   "outputs": [
    {
     "data": {
      "text/plain": [
       "9"
      ]
     },
     "execution_count": 100,
     "metadata": {},
     "output_type": "execute_result"
    }
   ],
   "source": [
    "L = [1,2,3,4,square]\n",
    "L[-1](3)"
   ]
  },
  {
   "cell_type": "code",
   "execution_count": 102,
   "id": "33596be9",
   "metadata": {},
   "outputs": [
    {
     "data": {
      "text/plain": [
       "{<function __main__.square(num)>}"
      ]
     },
     "execution_count": 102,
     "metadata": {},
     "output_type": "execute_result"
    }
   ],
   "source": [
    "s={square}\n",
    "s"
   ]
  },
  {
   "cell_type": "code",
   "execution_count": 103,
   "id": "2a99f670",
   "metadata": {},
   "outputs": [],
   "source": [
    "# So, functions are immutable as you can store them in sets"
   ]
  },
  {
   "cell_type": "code",
   "execution_count": 104,
   "id": "e1a1e8e7",
   "metadata": {},
   "outputs": [
    {
     "name": "stdout",
     "output_type": "stream",
     "text": [
      "7\n"
     ]
    }
   ],
   "source": [
    "#returning a function\n",
    "\n",
    "def f():\n",
    "    def x(a, b):\n",
    "        return a+b\n",
    "    return x\n",
    "    \n",
    "val = f()(3,4)\n",
    "print(val)"
   ]
  },
  {
   "cell_type": "code",
   "execution_count": 109,
   "id": "23f0fae9",
   "metadata": {},
   "outputs": [
    {
     "name": "stdout",
     "output_type": "stream",
     "text": [
      "inside func_b\n",
      "inside func_a\n",
      "None\n"
     ]
    }
   ],
   "source": [
    "### function as an argument\n",
    "\n",
    "def func_a():\n",
    "    print('inside func_a')\n",
    "\n",
    "def func_b(z):\n",
    "    print('inside func_b')\n",
    "    return z()\n",
    "\n",
    "print(func_b(func_a))"
   ]
  },
  {
   "cell_type": "markdown",
   "id": "3b8bb142",
   "metadata": {},
   "source": [
    "## Anything integer can do, function can do"
   ]
  },
  {
   "cell_type": "markdown",
   "id": "81e20215",
   "metadata": {},
   "source": [
    "# Benefits of using a Function\n",
    "- Code Modularity\n",
    "- Code Readibility\n",
    "- Code Reusability"
   ]
  },
  {
   "cell_type": "markdown",
   "id": "ff094ff1",
   "metadata": {},
   "source": [
    "# Lambda Function"
   ]
  },
  {
   "cell_type": "code",
   "execution_count": 111,
   "id": "ac5d8479",
   "metadata": {},
   "outputs": [],
   "source": [
    "# A lambda function is a small anonymous function.\n",
    "\n",
    "# A lambda function can take any number of arguments, but can only have one expression."
   ]
  },
  {
   "cell_type": "code",
   "execution_count": 112,
   "id": "0a0bd06f",
   "metadata": {},
   "outputs": [
    {
     "data": {
      "text/plain": [
       "4"
      ]
     },
     "execution_count": 112,
     "metadata": {},
     "output_type": "execute_result"
    }
   ],
   "source": [
    "# x -> x^2\n",
    "\n",
    "a = lambda x:x**2\n",
    "a(2)"
   ]
  },
  {
   "cell_type": "code",
   "execution_count": 113,
   "id": "3ef807bb",
   "metadata": {},
   "outputs": [
    {
     "data": {
      "text/plain": [
       "7"
      ]
     },
     "execution_count": 113,
     "metadata": {},
     "output_type": "execute_result"
    }
   ],
   "source": [
    "# x,y -> x+y\n",
    "\n",
    "a = lambda x,y:x+y\n",
    "a(5,2)"
   ]
  },
  {
   "cell_type": "markdown",
   "id": "42d2bab5",
   "metadata": {},
   "source": [
    "# Diff between lambda vs Normal Function\n",
    "- No name\n",
    "- lambda has no return value(infact,returns a function)\n",
    "- lambda is written in 1 line\n",
    "- not reusable\n",
    "\n",
    "### Then why use lambda functions?\n",
    "- They are used with HOF (Higher order functions)"
   ]
  },
  {
   "cell_type": "code",
   "execution_count": 114,
   "id": "32227aca",
   "metadata": {},
   "outputs": [
    {
     "data": {
      "text/plain": [
       "False"
      ]
     },
     "execution_count": 114,
     "metadata": {},
     "output_type": "execute_result"
    }
   ],
   "source": [
    "# check if a string has 'a'\n",
    "\n",
    "a = lambda s:'a' in s\n",
    "a('hello')"
   ]
  },
  {
   "cell_type": "code",
   "execution_count": 115,
   "id": "9937ef21",
   "metadata": {},
   "outputs": [
    {
     "data": {
      "text/plain": [
       "'even'"
      ]
     },
     "execution_count": 115,
     "metadata": {},
     "output_type": "execute_result"
    }
   ],
   "source": [
    "# odd or even\n",
    "\n",
    "a = lambda x:'even' if x%2 == 0 else 'odd'\n",
    "a(6)"
   ]
  },
  {
   "cell_type": "markdown",
   "id": "434d5d24",
   "metadata": {},
   "source": [
    "# Higher Order Functions"
   ]
  },
  {
   "cell_type": "code",
   "execution_count": 120,
   "id": "acabe0c0",
   "metadata": {},
   "outputs": [
    {
     "name": "stdout",
     "output_type": "stream",
     "text": [
      "[1, 4, 9, 16, 25]\n"
     ]
    }
   ],
   "source": [
    "# Example\n",
    "\n",
    "def square(x):\n",
    "  return x**2\n",
    "\n",
    "\n",
    "# HOF\n",
    "def transform(f,L): #transform receives function as input\n",
    "  output = []\n",
    "  for i in L:\n",
    "    output.append(f(i))\n",
    "\n",
    "  print(output)\n",
    "\n",
    "L = [1,2,3,4,5]\n",
    "\n",
    "transform(square,L)\n",
    "# or you could write transform(lambda x:x**2, L)  <-- Using lambda function"
   ]
  },
  {
   "cell_type": "code",
   "execution_count": 121,
   "id": "85134932",
   "metadata": {},
   "outputs": [
    {
     "name": "stdout",
     "output_type": "stream",
     "text": [
      "[1, 8, 27, 64, 125]\n"
     ]
    }
   ],
   "source": [
    "# each time rather than creating a square of cube function, send it through lamba function\n",
    "# def cube(x):\n",
    "#   return x**3\n",
    "\n",
    "def transform(f,L): #transform receives function as input\n",
    "  output = []\n",
    "  for i in L:\n",
    "    output.append(f(i))\n",
    "\n",
    "  print(output)\n",
    "\n",
    "L = [1,2,3,4,5]\n",
    "\n",
    "transform(lambda x:x**3,L)"
   ]
  },
  {
   "cell_type": "markdown",
   "id": "839bf217",
   "metadata": {},
   "source": [
    "# Map (Expects a Lambda funtion and  a iterable(list))"
   ]
  },
  {
   "cell_type": "markdown",
   "id": "2f72b220",
   "metadata": {},
   "source": [
    "- Map applies logic on every item of the list"
   ]
  },
  {
   "cell_type": "code",
   "execution_count": 122,
   "id": "c22f5e52",
   "metadata": {},
   "outputs": [
    {
     "data": {
      "text/plain": [
       "[1, 4, 9, 16, 25]"
      ]
     },
     "execution_count": 122,
     "metadata": {},
     "output_type": "execute_result"
    }
   ],
   "source": [
    "# square the items of a list\n",
    "\n",
    "list(map(lambda x:x**2,[1,2,3,4,5]))"
   ]
  },
  {
   "cell_type": "code",
   "execution_count": 123,
   "id": "a1976bc4",
   "metadata": {},
   "outputs": [
    {
     "data": {
      "text/plain": [
       "['odd', 'even', 'odd', 'even', 'odd']"
      ]
     },
     "execution_count": 123,
     "metadata": {},
     "output_type": "execute_result"
    }
   ],
   "source": [
    "# odd/even labelling of list items\n",
    "\n",
    "L = [1,2,3,4,5]\n",
    "list(map(lambda x:'even' if x%2 == 0 else 'odd',L))"
   ]
  },
  {
   "cell_type": "code",
   "execution_count": 125,
   "id": "e41a6680",
   "metadata": {},
   "outputs": [
    {
     "data": {
      "text/plain": [
       "['Rahul', 'Nitish', 'Ankita']"
      ]
     },
     "execution_count": 125,
     "metadata": {},
     "output_type": "execute_result"
    }
   ],
   "source": [
    "# fetch names from a list of dict\n",
    "\n",
    "users = [\n",
    "    {\n",
    "        'name':'Rahul',\n",
    "        'age':45,\n",
    "        'gender':'male'\n",
    "    },\n",
    "    {\n",
    "        'name':'Nitish',\n",
    "        'age':33,\n",
    "        'gender':'male'\n",
    "    },\n",
    "    {\n",
    "        'name':'Ankita',\n",
    "        'age':50,\n",
    "        'gender':'female'\n",
    "    }\n",
    "]\n",
    "\n",
    "list(map(lambda users:users['name'],users))"
   ]
  },
  {
   "cell_type": "markdown",
   "id": "3a5886f2",
   "metadata": {},
   "source": [
    "# Filter (Lambda function with condition and a list)"
   ]
  },
  {
   "cell_type": "markdown",
   "id": "6ab0c4c8",
   "metadata": {},
   "source": [
    "- From a list, filters on the basis of a given condition\n",
    "- Filters from a list and keeps only items satisfying the condition"
   ]
  },
  {
   "cell_type": "code",
   "execution_count": 127,
   "id": "a6276cb0",
   "metadata": {},
   "outputs": [
    {
     "data": {
      "text/plain": [
       "[6, 7]"
      ]
     },
     "execution_count": 127,
     "metadata": {},
     "output_type": "execute_result"
    }
   ],
   "source": [
    "# numbers greater than 5\n",
    "\n",
    "L = [3,4,5,6,7]\n",
    "\n",
    "list(filter(lambda x:x>5,L))"
   ]
  },
  {
   "cell_type": "code",
   "execution_count": 128,
   "id": "6bfa159e",
   "metadata": {},
   "outputs": [
    {
     "data": {
      "text/plain": [
       "['apple']"
      ]
     },
     "execution_count": 128,
     "metadata": {},
     "output_type": "execute_result"
    }
   ],
   "source": [
    "# fetch fruits starting with 'a'\n",
    "\n",
    "fruits = ['apple','guava','cherry']\n",
    "\n",
    "list(filter(lambda x:x.startswith('a'),fruits))"
   ]
  },
  {
   "cell_type": "markdown",
   "id": "17fce93d",
   "metadata": {},
   "source": [
    "# Reduce (Lambda and a list)"
   ]
  },
  {
   "cell_type": "code",
   "execution_count": 131,
   "id": "4f4d3280",
   "metadata": {},
   "outputs": [
    {
     "data": {
      "text/plain": [
       "15"
      ]
     },
     "execution_count": 131,
     "metadata": {},
     "output_type": "execute_result"
    }
   ],
   "source": [
    "# sum of all item\n",
    "\n",
    "import functools\n",
    "\n",
    "functools.reduce(lambda x,y:x+y,[1,2,3,4,5])\n",
    "# lambda picks two items and adds the\n",
    "# first 1+2,3,4,5\n",
    "# second 3+3,4,5\n",
    "# third 6+4,5\n",
    "# fourth 10+5"
   ]
  },
  {
   "cell_type": "code",
   "execution_count": 133,
   "id": "a9cf1300",
   "metadata": {},
   "outputs": [
    {
     "data": {
      "text/plain": [
       "1"
      ]
     },
     "execution_count": 133,
     "metadata": {},
     "output_type": "execute_result"
    }
   ],
   "source": [
    "# find min\n",
    "functools.reduce(lambda x,y:x if x<y else y,[23,11,45,10,1])"
   ]
  },
  {
   "cell_type": "code",
   "execution_count": 134,
   "id": "36119bf4",
   "metadata": {},
   "outputs": [
    {
     "data": {
      "text/plain": [
       "45"
      ]
     },
     "execution_count": 134,
     "metadata": {},
     "output_type": "execute_result"
    }
   ],
   "source": [
    "# find max\n",
    "functools.reduce(lambda x,y:x if x>y else y,[23,11,45,10,1])"
   ]
  },
  {
   "cell_type": "code",
   "execution_count": null,
   "id": "c3a8a379",
   "metadata": {},
   "outputs": [],
   "source": []
  }
 ],
 "metadata": {
  "kernelspec": {
   "display_name": "Python 3 (ipykernel)",
   "language": "python",
   "name": "python3"
  },
  "language_info": {
   "codemirror_mode": {
    "name": "ipython",
    "version": 3
   },
   "file_extension": ".py",
   "mimetype": "text/x-python",
   "name": "python",
   "nbconvert_exporter": "python",
   "pygments_lexer": "ipython3",
   "version": "3.11.5"
  }
 },
 "nbformat": 4,
 "nbformat_minor": 5
}
