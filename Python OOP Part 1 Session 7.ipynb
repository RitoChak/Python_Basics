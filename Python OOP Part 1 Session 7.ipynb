{
 "cells": [
  {
   "cell_type": "markdown",
   "id": "055114c2",
   "metadata": {},
   "source": [
    "# Object Oriented Programming"
   ]
  },
  {
   "cell_type": "code",
   "execution_count": 1,
   "id": "fcfcd79c",
   "metadata": {},
   "outputs": [
    {
     "ename": "AttributeError",
     "evalue": "'list' object has no attribute 'upper'",
     "output_type": "error",
     "traceback": [
      "\u001b[0;31m---------------------------------------------------------------------------\u001b[0m",
      "\u001b[0;31mAttributeError\u001b[0m                            Traceback (most recent call last)",
      "Cell \u001b[0;32mIn[1], line 2\u001b[0m\n\u001b[1;32m      1\u001b[0m L \u001b[38;5;241m=\u001b[39m [\u001b[38;5;241m1\u001b[39m,\u001b[38;5;241m2\u001b[39m,\u001b[38;5;241m3\u001b[39m]\n\u001b[0;32m----> 2\u001b[0m L\u001b[38;5;241m.\u001b[39mupper()\n",
      "\u001b[0;31mAttributeError\u001b[0m: 'list' object has no attribute 'upper'"
     ]
    }
   ],
   "source": [
    "L = [1,2,3]\n",
    "L.upper() #strings"
   ]
  },
  {
   "cell_type": "code",
   "execution_count": null,
   "id": "51c406ef",
   "metadata": {},
   "outputs": [],
   "source": [
    "s = 'hello'\n",
    "s.append('x')"
   ]
  },
  {
   "cell_type": "markdown",
   "id": "e72d778e",
   "metadata": {},
   "source": [
    "### Everything is an object in python (eg. strings, lists)"
   ]
  },
  {
   "cell_type": "markdown",
   "id": "427fe7fd",
   "metadata": {},
   "source": [
    "### The main power of OOP is, it gives the programmer the power to create his own datatypes"
   ]
  },
  {
   "cell_type": "markdown",
   "id": "4dbd12d6",
   "metadata": {},
   "source": [
    "### OOP is programming paradigm"
   ]
  },
  {
   "cell_type": "markdown",
   "id": "d27a9d96",
   "metadata": {},
   "source": [
    "## OOP Concepts\n",
    "\n",
    "- ### Class\n",
    "- ### Object\n",
    "- ### Inheritance\n",
    "- ### Polymorphism\n",
    "- ### Encapsulation\n",
    "- ### Abstraction"
   ]
  },
  {
   "cell_type": "markdown",
   "id": "cd9d1ce9",
   "metadata": {},
   "source": [
    "# Class"
   ]
  },
  {
   "cell_type": "markdown",
   "id": "31a96c25",
   "metadata": {},
   "source": [
    "### Class is a blueprint"
   ]
  },
  {
   "cell_type": "code",
   "execution_count": 2,
   "id": "3179942f",
   "metadata": {},
   "outputs": [
    {
     "name": "stdout",
     "output_type": "stream",
     "text": [
      "<class 'list'>\n"
     ]
    }
   ],
   "source": [
    "# Lists is a class, L is an object\n",
    "\n",
    "L = [1,2,3]\n",
    "print(type(L))"
   ]
  },
  {
   "cell_type": "markdown",
   "id": "a237a200",
   "metadata": {},
   "source": [
    "### Class is a set of rules that object follows"
   ]
  },
  {
   "cell_type": "markdown",
   "id": "c7153241",
   "metadata": {},
   "source": [
    "### Class\n",
    "\n",
    "- Data or property\n",
    "- Functions or behaviour"
   ]
  },
  {
   "cell_type": "markdown",
   "id": "cb2a5a53",
   "metadata": {},
   "source": [
    "## Types of classes\n",
    "\n",
    "- Built in classes\n",
    "- Programmer created classes"
   ]
  },
  {
   "cell_type": "markdown",
   "id": "07c77dc3",
   "metadata": {},
   "source": [
    "# Object"
   ]
  },
  {
   "cell_type": "markdown",
   "id": "499a4a74",
   "metadata": {},
   "source": [
    "## Object is an instance of class"
   ]
  },
  {
   "cell_type": "code",
   "execution_count": 3,
   "id": "710e8189",
   "metadata": {},
   "outputs": [],
   "source": [
    "# WagonR is an object in Class Car"
   ]
  },
  {
   "cell_type": "code",
   "execution_count": 4,
   "id": "256a86c1",
   "metadata": {},
   "outputs": [],
   "source": [
    "#syntax to create an object\n",
    "\n",
    "#object_name = class_name()"
   ]
  },
  {
   "cell_type": "code",
   "execution_count": 5,
   "id": "2c455693",
   "metadata": {},
   "outputs": [],
   "source": [
    "#object literals\n",
    "\n",
    "L = [1,2,3]"
   ]
  },
  {
   "cell_type": "code",
   "execution_count": 6,
   "id": "8f67da15",
   "metadata": {},
   "outputs": [
    {
     "data": {
      "text/plain": [
       "[]"
      ]
     },
     "execution_count": 6,
     "metadata": {},
     "output_type": "execute_result"
    }
   ],
   "source": [
    "L = list()  # L is object, list is class\n",
    "L"
   ]
  },
  {
   "cell_type": "code",
   "execution_count": 7,
   "id": "6ae4799f",
   "metadata": {},
   "outputs": [],
   "source": [
    "s = str()  # s is object, str is class"
   ]
  },
  {
   "cell_type": "markdown",
   "id": "7d6474bc",
   "metadata": {},
   "source": [
    "# ATM MACHINE CODE"
   ]
  },
  {
   "cell_type": "code",
   "execution_count": 8,
   "id": "cb265cc6",
   "metadata": {},
   "outputs": [
    {
     "ename": "NameError",
     "evalue": "name 'HelloWorld' is not defined",
     "output_type": "error",
     "traceback": [
      "\u001b[0;31m---------------------------------------------------------------------------\u001b[0m",
      "\u001b[0;31mNameError\u001b[0m                                 Traceback (most recent call last)",
      "Cell \u001b[0;32mIn[8], line 4\u001b[0m\n\u001b[1;32m      1\u001b[0m \u001b[38;5;66;03m#Naming Class\u001b[39;00m\n\u001b[1;32m      2\u001b[0m \u001b[38;5;66;03m#Pascal case\u001b[39;00m\n\u001b[0;32m----> 4\u001b[0m HelloWorld\n",
      "\u001b[0;31mNameError\u001b[0m: name 'HelloWorld' is not defined"
     ]
    }
   ],
   "source": [
    "#Naming Class\n",
    "#Pascal case\n",
    "\n",
    "HelloWorld #Join words and second word starts with capital"
   ]
  },
  {
   "cell_type": "code",
   "execution_count": 1,
   "id": "00bccdac",
   "metadata": {},
   "outputs": [],
   "source": [
    "class Atm: #class name starts with a capital letter\n",
    "    \n",
    "    #constructor(Special function) You don't need to explicitly call the function to run this, automatically runs\n",
    "    def __init__(self):\n",
    "        self.pin = ''\n",
    "        self.balance = 0\n",
    "        self.menu()\n",
    "        \n",
    "    #Create a menu function\n",
    "    def menu(self):\n",
    "        user_input = input(\"\"\"\n",
    "        Hi How can I help You ?\n",
    "        1. Press 1 to create pin\n",
    "        2. Press 2 to change pin\n",
    "        3. Press 3 to check balance\n",
    "        4. Press 4 to withdraw\n",
    "        5. Anything else to exit\n",
    "        \"\"\")\n",
    "        \n",
    "        if user_input == '1':\n",
    "            # create pin\n",
    "            self.create_pin()\n",
    "            \n",
    "        elif user_input == '2':\n",
    "            # change pin\n",
    "            self.change_pin()\n",
    "            \n",
    "        elif user_input == '3':\n",
    "            #check balance\n",
    "            self.check_balance()\n",
    "        elif user_input == '4':\n",
    "            #withdraw\n",
    "            self.withdrawal()\n",
    "        else:\n",
    "            exit()\n",
    "            \n",
    "    def create_pin(self):\n",
    "        user_pin = input('Enter your PIN :')\n",
    "        self.pin = user_pin\n",
    "        \n",
    "        user_balance = int(input('Enter your balance:'))\n",
    "        self.balance = user_balance\n",
    "        \n",
    "        print(\"PIN created successfully.\")\n",
    "        self.menu() # so that he sees menu again after this\n",
    "        \n",
    "    def change_pin(self):\n",
    "        old_pin = input('Enter old PIN: ')\n",
    "        if old_pin == self.pin:\n",
    "            #Let him change pin\n",
    "            new_pin = input('Enter new PIN: ')\n",
    "            self.pin = new_pin\n",
    "            print('PIN changed succesfully.')\n",
    "            self.menu()\n",
    "        else:\n",
    "            print('Wrong PIN.')\n",
    "            self.menu() # so that he sees menu again after this\n",
    "            \n",
    "            \n",
    "    def check_balance(self):\n",
    "        user_pin = input('Enter your PIN: ')\n",
    "        if user_pin == self.pin:\n",
    "            print(\"Your balance is :\", self.balance)\n",
    "        else:\n",
    "            print('Wrong PIN.')\n",
    "        self.menu()\n",
    "            \n",
    "    \n",
    "    def withdrawal(self):\n",
    "        user_pin = input('Enter the PIN :')\n",
    "        if user_pin == self.pin:\n",
    "            #allow withdrawal\n",
    "            amount = int(input('Enter the amount: '))\n",
    "            if amount <= self.balance:\n",
    "                self.balance -= amount\n",
    "                print('Withdrawal successful.')\n",
    "                print('Balance is :', self.balance)\n",
    "            else:\n",
    "                print(\"Don't have sufficient balance.\")\n",
    "        else:\n",
    "            print('Wrong PIN.')\n",
    "        self.menu()"
   ]
  },
  {
   "cell_type": "code",
   "execution_count": 2,
   "id": "b0ec15d8",
   "metadata": {},
   "outputs": [
    {
     "name": "stdout",
     "output_type": "stream",
     "text": [
      "\n",
      "        Hi How can I help You ?\n",
      "        1. Press 1 to create pin\n",
      "        2. Press 2 to change pin\n",
      "        3. Press 3 to check balance\n",
      "        4. Press 4 to withdraw\n",
      "        5. Anything else to exit\n",
      "        1\n",
      "Enter your PIN :1234\n",
      "Enter your balance:10000\n",
      "PIN created successfully.\n",
      "\n",
      "        Hi How can I help You ?\n",
      "        1. Press 1 to create pin\n",
      "        2. Press 2 to change pin\n",
      "        3. Press 3 to check balance\n",
      "        4. Press 4 to withdraw\n",
      "        5. Anything else to exit\n",
      "        4\n",
      "Enter the PIN :1234\n",
      "Enter the amount: 300\n",
      "Withdrawal successful.\n",
      "Balance is : 9700\n",
      "\n",
      "        Hi How can I help You ?\n",
      "        1. Press 1 to create pin\n",
      "        2. Press 2 to change pin\n",
      "        3. Press 3 to check balance\n",
      "        4. Press 4 to withdraw\n",
      "        5. Anything else to exit\n",
      "        5\n"
     ]
    }
   ],
   "source": [
    "obj = Atm()"
   ]
  },
  {
   "cell_type": "markdown",
   "id": "1f2bb28a",
   "metadata": {},
   "source": [
    "## Function inside a class is called Method"
   ]
  },
  {
   "cell_type": "code",
   "execution_count": 1,
   "id": "3c6d6899",
   "metadata": {},
   "outputs": [],
   "source": [
    "L = [1,2,3]\n",
    "len(L)        #len() is a function, because it is outside list class\n",
    "L.append(4)   #append() is a method, because it is inside list class"
   ]
  },
  {
   "cell_type": "code",
   "execution_count": 2,
   "id": "4a1f5581",
   "metadata": {},
   "outputs": [
    {
     "data": {
      "text/plain": [
       "4"
      ]
     },
     "execution_count": 2,
     "metadata": {},
     "output_type": "execute_result"
    }
   ],
   "source": [
    "len(L)"
   ]
  },
  {
   "cell_type": "markdown",
   "id": "c5dcedbb",
   "metadata": {},
   "source": [
    "# Class diagram"
   ]
  },
  {
   "cell_type": "markdown",
   "id": "67088157",
   "metadata": {},
   "source": [
    "- Class name\n",
    "- Data/Variables/Attributes\n",
    "- Methods"
   ]
  },
  {
   "cell_type": "markdown",
   "id": "8784e4aa",
   "metadata": {},
   "source": [
    "# Magic Methods \n",
    "## aka Dunder Methods"
   ]
  },
  {
   "cell_type": "code",
   "execution_count": 3,
   "id": "de660052",
   "metadata": {},
   "outputs": [],
   "source": [
    "# Special methods\n",
    "# -> Superpower :   __name__"
   ]
  },
  {
   "cell_type": "code",
   "execution_count": 5,
   "id": "c0e86ae5",
   "metadata": {},
   "outputs": [],
   "source": [
    "# Constructor is a Magic Method : __init__\n",
    "# No need to call it explicitly, whenever a class is created, it automatically runs/triggers."
   ]
  },
  {
   "cell_type": "code",
   "execution_count": 7,
   "id": "b51dd7bc",
   "metadata": {},
   "outputs": [],
   "source": [
    "# Using magic methods you can create own datatypes"
   ]
  },
  {
   "cell_type": "code",
   "execution_count": 8,
   "id": "38eb7e5e",
   "metadata": {},
   "outputs": [],
   "source": [
    "class Temp:\n",
    "    \n",
    "    def __init__(self):\n",
    "        print(\"Hi there.\")"
   ]
  },
  {
   "cell_type": "code",
   "execution_count": 10,
   "id": "18b12cba",
   "metadata": {},
   "outputs": [
    {
     "name": "stdout",
     "output_type": "stream",
     "text": [
      "Hi there.\n"
     ]
    }
   ],
   "source": [
    "obj = Temp()"
   ]
  },
  {
   "cell_type": "markdown",
   "id": "9af7306b",
   "metadata": {},
   "source": [
    "## Benefits of constructor :\n",
    "\n",
    "- Constructor is used to write configuration related code. The control to which you don't want to give to user.\n",
    "- Cannot change constructor name. '__ __init__ __' is the only name."
   ]
  },
  {
   "cell_type": "markdown",
   "id": "fe3480c2",
   "metadata": {},
   "source": [
    "# Self"
   ]
  },
  {
   "cell_type": "markdown",
   "id": "062e2aa2",
   "metadata": {},
   "source": [
    "### Self is the default parameter in all the methods\n",
    "### All the variables are called by adding self to it\n",
    "### Calling methods is also prefixed by self"
   ]
  },
  {
   "cell_type": "markdown",
   "id": "d8095046",
   "metadata": {},
   "source": [
    "# Golden rule of Object Oriented Programming : \n",
    "### Only objects of that class can access all the things inside that class"
   ]
  },
  {
   "cell_type": "code",
   "execution_count": 11,
   "id": "2c61cdf4",
   "metadata": {},
   "outputs": [],
   "source": [
    "class Temp:\n",
    "    \n",
    "    def __init__(self):\n",
    "        print(id(self))"
   ]
  },
  {
   "cell_type": "code",
   "execution_count": 12,
   "id": "07c8fd17",
   "metadata": {},
   "outputs": [
    {
     "name": "stdout",
     "output_type": "stream",
     "text": [
      "4395049232\n"
     ]
    }
   ],
   "source": [
    "obj = Temp()"
   ]
  },
  {
   "cell_type": "code",
   "execution_count": 13,
   "id": "0fafa8a1",
   "metadata": {},
   "outputs": [
    {
     "data": {
      "text/plain": [
       "4395049232"
      ]
     },
     "execution_count": 13,
     "metadata": {},
     "output_type": "execute_result"
    }
   ],
   "source": [
    "id(obj)"
   ]
  },
  {
   "cell_type": "code",
   "execution_count": 14,
   "id": "279d8ca1",
   "metadata": {},
   "outputs": [],
   "source": [
    "# Self is the current object, both has same address(id)"
   ]
  },
  {
   "cell_type": "code",
   "execution_count": 15,
   "id": "6d160b1c",
   "metadata": {},
   "outputs": [],
   "source": [
    "# Two methods of a class cannot communicate to each other without an object. \n",
    "# So self is the object which is created inside the class, when an object of the class is created.\n",
    "# So that you can call one method inside another method."
   ]
  },
  {
   "cell_type": "markdown",
   "id": "6d36a50d",
   "metadata": {},
   "source": [
    "# Building our own datatype"
   ]
  },
  {
   "cell_type": "code",
   "execution_count": 31,
   "id": "cf09943f",
   "metadata": {},
   "outputs": [],
   "source": [
    "class Fraction:\n",
    "    \n",
    "    #parameterized constructor (When constructor needs input)\n",
    "    def __init__(self,x,y):\n",
    "        self.num = x\n",
    "        self.den = y\n",
    "        \n",
    "    def __str__(self):\n",
    "        return '{}/{}'.format(self.num,self.den)\n",
    "    \n",
    "    def __add__(self,other):\n",
    "        new_num = self.num*other.den + other.num*self.den\n",
    "        new_den = self.den*other.den\n",
    "        return '{}/{}'.format(new_num,new_den)\n",
    "    \n",
    "    def __sub__(self,other):\n",
    "        new_num = self.num*other.den - other.num*self.den\n",
    "        new_den = self.den*other.den\n",
    "        return '{}/{}'.format(new_num,new_den)\n",
    "    \n",
    "    def __mul__(self,other):\n",
    "        new_num = self.num*other.num\n",
    "        new_den = self.den*other.den\n",
    "        return '{}/{}'.format(new_num,new_den)\n",
    "    \n",
    "    def __truediv__(self,other):\n",
    "        new_num = self.num*other.den\n",
    "        new_den = self.den*other.num\n",
    "        return '{}/{}'.format(new_num,new_den)\n",
    "    \n",
    "    def convert_to_decimal(self):\n",
    "        return self.num/self.den"
   ]
  },
  {
   "cell_type": "code",
   "execution_count": 32,
   "id": "10d2ceba",
   "metadata": {},
   "outputs": [],
   "source": [
    "fr1 = Fraction(3,4)\n",
    "fr2 = Fraction(4,7)"
   ]
  },
  {
   "cell_type": "code",
   "execution_count": 36,
   "id": "f52aaddd",
   "metadata": {},
   "outputs": [
    {
     "name": "stdout",
     "output_type": "stream",
     "text": [
      "3/4\n",
      "4/7\n",
      "0.75\n"
     ]
    }
   ],
   "source": [
    "print(fr1)\n",
    "print(fr2)\n",
    "print(fr1.convert_to_decimal())"
   ]
  },
  {
   "cell_type": "code",
   "execution_count": 37,
   "id": "80d87995",
   "metadata": {},
   "outputs": [
    {
     "name": "stdout",
     "output_type": "stream",
     "text": [
      "37/28\n",
      "5/28\n",
      "12/28\n",
      "21/16\n"
     ]
    }
   ],
   "source": [
    "print(fr1 + fr2)\n",
    "print(fr1 - fr2)\n",
    "print(fr1 * fr2)\n",
    "print(fr1 / fr2)"
   ]
  },
  {
   "cell_type": "code",
   "execution_count": null,
   "id": "e16909c7",
   "metadata": {},
   "outputs": [],
   "source": []
  }
 ],
 "metadata": {
  "kernelspec": {
   "display_name": "Python 3 (ipykernel)",
   "language": "python",
   "name": "python3"
  },
  "language_info": {
   "codemirror_mode": {
    "name": "ipython",
    "version": 3
   },
   "file_extension": ".py",
   "mimetype": "text/x-python",
   "name": "python",
   "nbconvert_exporter": "python",
   "pygments_lexer": "ipython3",
   "version": "3.11.5"
  }
 },
 "nbformat": 4,
 "nbformat_minor": 5
}
