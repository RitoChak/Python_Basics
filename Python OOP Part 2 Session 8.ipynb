{
 "cells": [
  {
   "cell_type": "markdown",
   "id": "42933d01",
   "metadata": {},
   "source": [
    "## Write OOP classes to handle the following scenarios:\n",
    "- A user can create and view 2D coordinates\n",
    "- A user can find out the distance between 2 coordinates\n",
    "- A user can find find the distance of a coordinate from origin\n",
    "- A user can check if a point lies on a given line\n",
    "- A user can find the distance between a given 2D point and a given line"
   ]
  },
  {
   "cell_type": "code",
   "execution_count": 1,
   "id": "a6e371bc",
   "metadata": {},
   "outputs": [],
   "source": [
    "class Point:\n",
    "    \n",
    "    def __init__(self, x, y):\n",
    "        self.x_cod = x\n",
    "        self.y_cod = y\n",
    "    \n",
    "    def __str__(self):\n",
    "        return '<{},{}>'.format(self.x_cod, self.y_cod)\n",
    "    \n",
    "    def euclidean_distance(self, other):\n",
    "        return ((self.x_cod - other.x_cod)**2 + (self.y_cod - other.y_cod)**2)**0.5\n",
    "    \n",
    "    def distance_from_origin(self):\n",
    "        return self.euclidean_distance(Point(0,0))\n",
    "    \n",
    "class Line:\n",
    "    \n",
    "    def __init__(self, A, B, C):\n",
    "        self.A = A\n",
    "        self.B = B\n",
    "        self.C = C\n",
    "        \n",
    "    def __str__(self):\n",
    "        return '{}x + {}y + {}'.format(self.A, self.B, self.C)\n",
    "    \n",
    "    def point_on_line(line, point):\n",
    "        if line.A*point.x_cod + line.B*point.y_cod + line.C == 0:\n",
    "            return 'Lies on the line.'\n",
    "        else:\n",
    "            return 'Does not lie on the line.'\n",
    "    \n",
    "    def shortest_distance(line,point):\n",
    "        return abs(line.A*point.x_cod + line.B*point.y_cod + line.C)/(line.A**2 + line.B**2)**0.5"
   ]
  },
  {
   "cell_type": "code",
   "execution_count": 2,
   "id": "6bacae49",
   "metadata": {},
   "outputs": [
    {
     "name": "stdout",
     "output_type": "stream",
     "text": [
      "<0,0>\n",
      "<1,1>\n"
     ]
    }
   ],
   "source": [
    "p1 = Point(0,0)\n",
    "p2 = Point(1,1)\n",
    "# structure <x,y>\n",
    "print(p1)\n",
    "print(p2)"
   ]
  },
  {
   "cell_type": "code",
   "execution_count": 3,
   "id": "acfd9e57",
   "metadata": {},
   "outputs": [
    {
     "data": {
      "text/plain": [
       "1.4142135623730951"
      ]
     },
     "execution_count": 3,
     "metadata": {},
     "output_type": "execute_result"
    }
   ],
   "source": [
    "p1.euclidean_distance(p2)"
   ]
  },
  {
   "cell_type": "code",
   "execution_count": 4,
   "id": "49e26e2d",
   "metadata": {},
   "outputs": [
    {
     "data": {
      "text/plain": [
       "14.142135623730951"
      ]
     },
     "execution_count": 4,
     "metadata": {},
     "output_type": "execute_result"
    }
   ],
   "source": [
    "p2 = Point(10,10)\n",
    "p1.euclidean_distance(p2)"
   ]
  },
  {
   "cell_type": "code",
   "execution_count": 5,
   "id": "eedf52e6",
   "metadata": {},
   "outputs": [
    {
     "data": {
      "text/plain": [
       "0.0"
      ]
     },
     "execution_count": 5,
     "metadata": {},
     "output_type": "execute_result"
    }
   ],
   "source": [
    "p1 = Point(0,0)\n",
    "p2 = Point(1,1)\n",
    "p1.distance_from_origin()"
   ]
  },
  {
   "cell_type": "code",
   "execution_count": 6,
   "id": "814f293e",
   "metadata": {},
   "outputs": [
    {
     "name": "stdout",
     "output_type": "stream",
     "text": [
      "3x + 4y + 5\n"
     ]
    }
   ],
   "source": [
    "l1 = Line(3,4,5)\n",
    "print(l1)"
   ]
  },
  {
   "cell_type": "code",
   "execution_count": 7,
   "id": "7c176b4d",
   "metadata": {},
   "outputs": [
    {
     "name": "stdout",
     "output_type": "stream",
     "text": [
      "1x + 1y + -2\n",
      "<1,2>\n"
     ]
    },
    {
     "data": {
      "text/plain": [
       "'Does not lie on the line.'"
      ]
     },
     "execution_count": 7,
     "metadata": {},
     "output_type": "execute_result"
    }
   ],
   "source": [
    "l1 = Line(1,1,-2)\n",
    "p1 = Point(1,2)\n",
    "print(l1)\n",
    "print(p1)\n",
    "    \n",
    "l1.point_on_line(p1)"
   ]
  },
  {
   "cell_type": "code",
   "execution_count": 8,
   "id": "8bed69e8",
   "metadata": {},
   "outputs": [
    {
     "name": "stdout",
     "output_type": "stream",
     "text": [
      "1x + 1y + -2\n",
      "<1,1>\n",
      "Shortest distance is : 0.0\n"
     ]
    }
   ],
   "source": [
    "l1 = Line(1,1,-2)\n",
    "p1 = Point(1,1)\n",
    "print(l1)\n",
    "print(p1)\n",
    "\n",
    "print('Shortest distance is :', l1.shortest_distance(p1))"
   ]
  },
  {
   "cell_type": "markdown",
   "id": "00b6de0b",
   "metadata": {},
   "source": [
    "# How objects access attributes"
   ]
  },
  {
   "cell_type": "code",
   "execution_count": 9,
   "id": "cf577c63",
   "metadata": {},
   "outputs": [],
   "source": [
    "class Person:\n",
    "\n",
    "  def __init__(self,name_input,country_input):\n",
    "    self.name = name_input\n",
    "    self.country = country_input\n",
    "\n",
    "  def greet(self):\n",
    "    if self.country == 'india':\n",
    "      print('Namaste',self.name)\n",
    "    else:\n",
    "      print('Hello',self.name)"
   ]
  },
  {
   "cell_type": "code",
   "execution_count": 10,
   "id": "dbe8d66a",
   "metadata": {},
   "outputs": [],
   "source": [
    "# How to access attributes\n",
    "p = Person('Rito', 'India')"
   ]
  },
  {
   "cell_type": "code",
   "execution_count": 11,
   "id": "d84211ce",
   "metadata": {},
   "outputs": [
    {
     "data": {
      "text/plain": [
       "'India'"
      ]
     },
     "execution_count": 11,
     "metadata": {},
     "output_type": "execute_result"
    }
   ],
   "source": [
    "p.country"
   ]
  },
  {
   "cell_type": "code",
   "execution_count": 12,
   "id": "44538a40",
   "metadata": {},
   "outputs": [
    {
     "data": {
      "text/plain": [
       "'Rito'"
      ]
     },
     "execution_count": 12,
     "metadata": {},
     "output_type": "execute_result"
    }
   ],
   "source": [
    "p.name"
   ]
  },
  {
   "cell_type": "code",
   "execution_count": 13,
   "id": "d59742d2",
   "metadata": {},
   "outputs": [
    {
     "name": "stdout",
     "output_type": "stream",
     "text": [
      "Hello Rito\n"
     ]
    }
   ],
   "source": [
    "p.greet()"
   ]
  },
  {
   "cell_type": "markdown",
   "id": "3fc130c9",
   "metadata": {},
   "source": [
    "# Attribute creation outside of class"
   ]
  },
  {
   "cell_type": "code",
   "execution_count": 14,
   "id": "ee9e8070",
   "metadata": {},
   "outputs": [],
   "source": [
    "p.gender = 'male'"
   ]
  },
  {
   "cell_type": "code",
   "execution_count": 15,
   "id": "b4d7ad8f",
   "metadata": {},
   "outputs": [
    {
     "data": {
      "text/plain": [
       "'male'"
      ]
     },
     "execution_count": 15,
     "metadata": {},
     "output_type": "execute_result"
    }
   ],
   "source": [
    "p.gender"
   ]
  },
  {
   "cell_type": "markdown",
   "id": "cd217d0c",
   "metadata": {},
   "source": [
    "# Reference Variables\n",
    "\n",
    "- Reference variables hold the objects\n",
    "- We can create objects without reference variable as well\n",
    "- An object can have multiple reference variables\n",
    "- Assigning a new reference variable to an existing object does not create a new object"
   ]
  },
  {
   "cell_type": "code",
   "execution_count": 16,
   "id": "2b2fd647",
   "metadata": {},
   "outputs": [],
   "source": [
    "# object without a reference\n",
    "class Person:\n",
    "\n",
    "  def __init__(self):\n",
    "    self.name = 'nitish'\n",
    "    self.gender = 'male'\n"
   ]
  },
  {
   "cell_type": "code",
   "execution_count": 17,
   "id": "cdbd5722",
   "metadata": {},
   "outputs": [],
   "source": [
    "p = Person() # p is not the object, it stores the reference/address of the object that has been created\n",
    "             # p is a reference variable\n",
    "q = p "
   ]
  },
  {
   "cell_type": "code",
   "execution_count": 18,
   "id": "2c230c9a",
   "metadata": {},
   "outputs": [
    {
     "name": "stdout",
     "output_type": "stream",
     "text": [
      "4401056976\n",
      "4401056976\n"
     ]
    }
   ],
   "source": [
    "# Multiple ref\n",
    "print(id(p))\n",
    "print(id(q))"
   ]
  },
  {
   "cell_type": "code",
   "execution_count": 19,
   "id": "ba8ca271",
   "metadata": {},
   "outputs": [
    {
     "name": "stdout",
     "output_type": "stream",
     "text": [
      "nitish\n",
      "nitish\n",
      "ankit\n",
      "ankit\n"
     ]
    }
   ],
   "source": [
    "# change attribute value with the help of 2nd object\n",
    "\n",
    "print(p.name)\n",
    "print(q.name)\n",
    "q.name = 'ankit'\n",
    "print(q.name)\n",
    "print(p.name)"
   ]
  },
  {
   "cell_type": "markdown",
   "id": "514b2954",
   "metadata": {},
   "source": [
    "# Pass by reference"
   ]
  },
  {
   "cell_type": "code",
   "execution_count": 20,
   "id": "2fc34e14",
   "metadata": {},
   "outputs": [
    {
     "name": "stdout",
     "output_type": "stream",
     "text": [
      "Hi my name is nitish and I am a male\n",
      "ankit\n",
      "male\n"
     ]
    }
   ],
   "source": [
    "class Person:\n",
    "\n",
    "  def __init__(self,name,gender):\n",
    "    self.name = name\n",
    "    self.gender = gender\n",
    "\n",
    "# outside the class -> function\n",
    "def greet(person):    # Here greet function has the object p from Person class as the input\n",
    "  print('Hi my name is',person.name,'and I am a',person.gender)\n",
    "  p1 = Person('ankit','male')\n",
    "  return p1\n",
    "\n",
    "p = Person('nitish','male')\n",
    "x = greet(p)    # You can give object of a class as an input to a function\n",
    "print(x.name)\n",
    "print(x.gender)"
   ]
  },
  {
   "cell_type": "code",
   "execution_count": 21,
   "id": "0201ba91",
   "metadata": {},
   "outputs": [
    {
     "name": "stdout",
     "output_type": "stream",
     "text": [
      "4403951632\n",
      "4403951632\n",
      "ankit\n",
      "ankit\n"
     ]
    }
   ],
   "source": [
    "class Person:\n",
    "\n",
    "  def __init__(self,name,gender):\n",
    "    self.name = name\n",
    "    self.gender = gender\n",
    "\n",
    "# outside the class -> function\n",
    "def greet(person):\n",
    "  print(id(person))\n",
    "  person.name = 'ankit'\n",
    "  print(person.name)\n",
    "\n",
    "p = Person('nitish','male')\n",
    "print(id(p))\n",
    "greet(p)\n",
    "print(p.name)"
   ]
  },
  {
   "cell_type": "markdown",
   "id": "3d14864c",
   "metadata": {},
   "source": [
    "# Mutability of object"
   ]
  },
  {
   "cell_type": "code",
   "execution_count": 22,
   "id": "c77e4729",
   "metadata": {},
   "outputs": [
    {
     "name": "stdout",
     "output_type": "stream",
     "text": [
      "4403978320\n",
      "4403978320\n"
     ]
    }
   ],
   "source": [
    "class Person:\n",
    "\n",
    "  def __init__(self,name,gender):\n",
    "    self.name = name\n",
    "    self.gender = gender\n",
    "\n",
    "# outside the class -> function\n",
    "def greet(person):\n",
    "  person.name = 'ankit'\n",
    "  return person\n",
    "\n",
    "p = Person('nitish','male')\n",
    "print(id(p))\n",
    "p1 = greet(p)\n",
    "print(id(p1))"
   ]
  },
  {
   "cell_type": "code",
   "execution_count": 23,
   "id": "64532a3a",
   "metadata": {},
   "outputs": [],
   "source": [
    "# User defined classes are mutable, so id stays the same"
   ]
  },
  {
   "cell_type": "markdown",
   "id": "44fd3b62",
   "metadata": {},
   "source": [
    "# Encapsulation"
   ]
  },
  {
   "cell_type": "markdown",
   "id": "f447d87e",
   "metadata": {},
   "source": [
    "## Data and Getter and Setter two methods\n",
    "### For every attribute getter and setter is created to keep attributes private and safe"
   ]
  },
  {
   "cell_type": "code",
   "execution_count": 24,
   "id": "7479f556",
   "metadata": {},
   "outputs": [],
   "source": [
    "# instance var -> python tutor\n",
    "class Person:\n",
    "\n",
    "  def __init__(self,name_input,country_input):\n",
    "    self.name = name_input       # name and country are instance variables\n",
    "    self.country = country_input\n",
    "\n",
    "p1 = Person('nitish','india')\n",
    "p2 = Person('steve','australia')"
   ]
  },
  {
   "cell_type": "code",
   "execution_count": 25,
   "id": "7c3d794c",
   "metadata": {},
   "outputs": [
    {
     "data": {
      "text/plain": [
       "'nitish'"
      ]
     },
     "execution_count": 25,
     "metadata": {},
     "output_type": "execute_result"
    }
   ],
   "source": [
    "p1.name"
   ]
  },
  {
   "cell_type": "code",
   "execution_count": 26,
   "id": "022a68bc",
   "metadata": {},
   "outputs": [
    {
     "data": {
      "text/plain": [
       "'steve'"
      ]
     },
     "execution_count": 26,
     "metadata": {},
     "output_type": "execute_result"
    }
   ],
   "source": [
    "p2.name"
   ]
  },
  {
   "cell_type": "code",
   "execution_count": 27,
   "id": "89f2c603",
   "metadata": {},
   "outputs": [],
   "source": [
    "# For every object, values of instance variables are different"
   ]
  },
  {
   "cell_type": "code",
   "execution_count": 28,
   "id": "b427f66b",
   "metadata": {},
   "outputs": [],
   "source": [
    "class Atm:\n",
    "\n",
    "  # constructor(special function)->superpower -> \n",
    "  def __init__(self):\n",
    "    print(id(self))\n",
    "    self.pin = ''\n",
    "    self.__balance = 0\n",
    "    #self.menu()\n",
    "\n",
    "  def get_balance(self):\n",
    "    return self.__balance\n",
    "\n",
    "  def set_balance(self,new_value):\n",
    "    if type(new_value) == int:\n",
    "      self.__balance = new_value\n",
    "    else:\n",
    "      print('beta bahot maarenge')\n",
    "\n",
    "  def __menu(self):\n",
    "    user_input = input(\"\"\"\n",
    "    Hi how can I help you?\n",
    "    1. Press 1 to create pin\n",
    "    2. Press 2 to change pin\n",
    "    3. Press 3 to check balance\n",
    "    4. Press 4 to withdraw\n",
    "    5. Anything else to exit\n",
    "    \"\"\")\n",
    "\n",
    "    if user_input == '1':\n",
    "      self.create_pin()\n",
    "    elif user_input == '2':\n",
    "      self.change_pin()\n",
    "    elif user_input == '3':\n",
    "      self.check_balance()\n",
    "    elif user_input == '4':\n",
    "      self.withdraw()\n",
    "    else:\n",
    "      exit()\n",
    "\n",
    "  def create_pin(self):\n",
    "    user_pin = input('enter your pin')\n",
    "    self.pin = user_pin\n",
    "\n",
    "    user_balance = int(input('enter balance'))\n",
    "    self.__balance = user_balance\n",
    "\n",
    "    print('pin created successfully')\n",
    "\n",
    "  def change_pin(self):\n",
    "    old_pin = input('enter old pin')\n",
    "\n",
    "    if old_pin == self.pin:\n",
    "      # let him change the pin\n",
    "      new_pin = input('enter new pin')\n",
    "      self.pin = new_pin\n",
    "      print('pin change successful')\n",
    "    else:\n",
    "      print('nai karne de sakta re baba')\n",
    "\n",
    "  def check_balance(self):\n",
    "    user_pin = input('enter your pin')\n",
    "    if user_pin == self.pin:\n",
    "      print('your balance is ',self.__balance)\n",
    "    else:\n",
    "      print('chal nikal yahan se')\n",
    "\n",
    "  def withdraw(self):\n",
    "    user_pin = input('enter the pin')\n",
    "    if user_pin == self.pin:\n",
    "      # allow to withdraw\n",
    "      amount = int(input('enter the amount'))\n",
    "      if amount <= self.__balance:\n",
    "        self.__balance = self.__balance - amount\n",
    "        print('withdrawl successful.balance is',self.__balance)\n",
    "      else:\n",
    "        print('abe garib')\n",
    "    else:\n",
    "      print('sale chor')"
   ]
  },
  {
   "cell_type": "code",
   "execution_count": 34,
   "id": "c9763c91",
   "metadata": {},
   "outputs": [
    {
     "name": "stdout",
     "output_type": "stream",
     "text": [
      "4403689488\n"
     ]
    }
   ],
   "source": [
    "obj = Atm()"
   ]
  },
  {
   "cell_type": "code",
   "execution_count": 35,
   "id": "78b86b98",
   "metadata": {},
   "outputs": [
    {
     "name": "stdout",
     "output_type": "stream",
     "text": [
      "enter your pin1234\n",
      "enter balance100000\n",
      "pin created successfully\n"
     ]
    }
   ],
   "source": [
    "obj.create_pin()\n",
    "obj._Atm__balance = 'hehehe'"
   ]
  },
  {
   "cell_type": "code",
   "execution_count": null,
   "id": "6571b302",
   "metadata": {},
   "outputs": [],
   "source": []
  },
  {
   "cell_type": "code",
   "execution_count": 36,
   "id": "688f7b10",
   "metadata": {},
   "outputs": [
    {
     "name": "stdout",
     "output_type": "stream",
     "text": [
      "enter the pin1234\n",
      "enter the amount5000\n"
     ]
    },
    {
     "ename": "TypeError",
     "evalue": "'<=' not supported between instances of 'int' and 'str'",
     "output_type": "error",
     "traceback": [
      "\u001b[0;31m---------------------------------------------------------------------------\u001b[0m",
      "\u001b[0;31mTypeError\u001b[0m                                 Traceback (most recent call last)",
      "Cell \u001b[0;32mIn[36], line 1\u001b[0m\n\u001b[0;32m----> 1\u001b[0m obj\u001b[38;5;241m.\u001b[39mwithdraw()\n",
      "Cell \u001b[0;32mIn[28], line 72\u001b[0m, in \u001b[0;36mAtm.withdraw\u001b[0;34m(self)\u001b[0m\n\u001b[1;32m     69\u001b[0m \u001b[38;5;28;01mif\u001b[39;00m user_pin \u001b[38;5;241m==\u001b[39m \u001b[38;5;28mself\u001b[39m\u001b[38;5;241m.\u001b[39mpin:\n\u001b[1;32m     70\u001b[0m   \u001b[38;5;66;03m# allow to withdraw\u001b[39;00m\n\u001b[1;32m     71\u001b[0m   amount \u001b[38;5;241m=\u001b[39m \u001b[38;5;28mint\u001b[39m(\u001b[38;5;28minput\u001b[39m(\u001b[38;5;124m'\u001b[39m\u001b[38;5;124menter the amount\u001b[39m\u001b[38;5;124m'\u001b[39m))\n\u001b[0;32m---> 72\u001b[0m   \u001b[38;5;28;01mif\u001b[39;00m amount \u001b[38;5;241m<\u001b[39m\u001b[38;5;241m=\u001b[39m \u001b[38;5;28mself\u001b[39m\u001b[38;5;241m.\u001b[39m__balance:\n\u001b[1;32m     73\u001b[0m     \u001b[38;5;28mself\u001b[39m\u001b[38;5;241m.\u001b[39m__balance \u001b[38;5;241m=\u001b[39m \u001b[38;5;28mself\u001b[39m\u001b[38;5;241m.\u001b[39m__balance \u001b[38;5;241m-\u001b[39m amount\n\u001b[1;32m     74\u001b[0m     \u001b[38;5;28mprint\u001b[39m(\u001b[38;5;124m'\u001b[39m\u001b[38;5;124mwithdrawl successful.balance is\u001b[39m\u001b[38;5;124m'\u001b[39m,\u001b[38;5;28mself\u001b[39m\u001b[38;5;241m.\u001b[39m__balance)\n",
      "\u001b[0;31mTypeError\u001b[0m: '<=' not supported between instances of 'int' and 'str'"
     ]
    }
   ],
   "source": [
    "obj.withdraw()"
   ]
  },
  {
   "cell_type": "markdown",
   "id": "491ad1cc",
   "metadata": {},
   "source": [
    "# Collection of Objects"
   ]
  },
  {
   "cell_type": "code",
   "execution_count": 38,
   "id": "bbbf8b79",
   "metadata": {},
   "outputs": [
    {
     "name": "stdout",
     "output_type": "stream",
     "text": [
      "nitish male\n",
      "ankit male\n",
      "ankita female\n"
     ]
    }
   ],
   "source": [
    "# list of objects\n",
    "class Person:\n",
    "\n",
    "  def __init__(self,name,gender):\n",
    "    self.name = name\n",
    "    self.gender = gender\n",
    "\n",
    "p1 = Person('nitish','male')\n",
    "p2 = Person('ankit','male')\n",
    "p3 = Person('ankita','female')\n",
    "\n",
    "L = [p1,p2,p3]\n",
    "\n",
    "for i in L:\n",
    "  print(i.name,i.gender)"
   ]
  },
  {
   "cell_type": "code",
   "execution_count": 39,
   "id": "16ac69bd",
   "metadata": {},
   "outputs": [
    {
     "name": "stdout",
     "output_type": "stream",
     "text": [
      "male\n",
      "male\n",
      "female\n"
     ]
    }
   ],
   "source": [
    "# dict of objects\n",
    "\n",
    "class Person:\n",
    "\n",
    "  def __init__(self,name,gender):\n",
    "    self.name = name\n",
    "    self.gender = gender\n",
    "\n",
    "p1 = Person('nitish','male')\n",
    "p2 = Person('ankit','male')\n",
    "p3 = Person('ankita','female')\n",
    "\n",
    "d = {'p1':p1,'p2':p2,'p3':p3}\n",
    "\n",
    "for i in d:\n",
    "  print(d[i].gender)"
   ]
  },
  {
   "cell_type": "markdown",
   "id": "91423899",
   "metadata": {},
   "source": [
    "# Static variables vs Instance Variables"
   ]
  },
  {
   "cell_type": "markdown",
   "id": "033908e1",
   "metadata": {},
   "source": [
    "### - Instance variable is a variable of an object\n",
    "### - Static variable is a variable of Class\n",
    "### - Instance variables have different values for different objects\n",
    "### - Static variables have same values for every object in a class\n",
    "### - ObjectName.variable = instance variable (self.pin)\n",
    "### - ClassName.variable = static variable (Atm.counter)"
   ]
  },
  {
   "cell_type": "code",
   "execution_count": 40,
   "id": "4f6f1cb5",
   "metadata": {},
   "outputs": [],
   "source": [
    "class Atm:\n",
    "\n",
    "  __counter = 1\n",
    "\n",
    "  # constructor(special function)->superpower -> \n",
    "  def __init__(self):\n",
    "    print(id(self))\n",
    "    self.pin = ''\n",
    "    self.__balance = 0\n",
    "    self.cid = Atm.__counter\n",
    "    Atm.__counter = Atm.__counter + 1\n",
    "    #self.menu()\n",
    "\n",
    "  # utility functions\n",
    "  @staticmethod\n",
    "  def get_counter():\n",
    "    return Atm.__counter\n",
    "\n",
    "\n",
    "  def get_balance(self):\n",
    "    return self.__balance\n",
    "\n",
    "  def set_balance(self,new_value):\n",
    "    if type(new_value) == int:\n",
    "      self.__balance = new_value\n",
    "    else:\n",
    "      print('beta bahot maarenge')\n",
    "\n",
    "  def __menu(self):\n",
    "    user_input = input(\"\"\"\n",
    "    Hi how can I help you?\n",
    "    1. Press 1 to create pin\n",
    "    2. Press 2 to change pin\n",
    "    3. Press 3 to check balance\n",
    "    4. Press 4 to withdraw\n",
    "    5. Anything else to exit\n",
    "    \"\"\")\n",
    "\n",
    "    if user_input == '1':\n",
    "      self.create_pin()\n",
    "    elif user_input == '2':\n",
    "      self.change_pin()\n",
    "    elif user_input == '3':\n",
    "      self.check_balance()\n",
    "    elif user_input == '4':\n",
    "      self.withdraw()\n",
    "    else:\n",
    "      exit()\n",
    "\n",
    "  def create_pin(self):\n",
    "    user_pin = input('enter your pin')\n",
    "    self.pin = user_pin\n",
    "\n",
    "    user_balance = int(input('enter balance'))\n",
    "    self.__balance = user_balance\n",
    "\n",
    "    print('pin created successfully')\n",
    "\n",
    "  def change_pin(self):\n",
    "    old_pin = input('enter old pin')\n",
    "\n",
    "    if old_pin == self.pin:\n",
    "      # let him change the pin\n",
    "      new_pin = input('enter new pin')\n",
    "      self.pin = new_pin\n",
    "      print('pin change successful')\n",
    "    else:\n",
    "      print('nai karne de sakta re baba')\n",
    "\n",
    "  def check_balance(self):\n",
    "    user_pin = input('enter your pin')\n",
    "    if user_pin == self.pin:\n",
    "      print('your balance is ',self.__balance)\n",
    "    else:\n",
    "      print('chal nikal yahan se')\n",
    "\n",
    "  def withdraw(self):\n",
    "    user_pin = input('enter the pin')\n",
    "    if user_pin == self.pin:\n",
    "      # allow to withdraw\n",
    "      amount = int(input('enter the amount'))\n",
    "      if amount <= self.__balance:\n",
    "        self.__balance = self.__balance - amount\n",
    "        print('withdrawl successful.balance is',self.__balance)\n",
    "      else:\n",
    "        print('abe garib')\n",
    "    else:\n",
    "      print('sale chor')"
   ]
  },
  {
   "cell_type": "code",
   "execution_count": 41,
   "id": "e76bfeab",
   "metadata": {},
   "outputs": [
    {
     "name": "stdout",
     "output_type": "stream",
     "text": [
      "4425250256\n",
      "4423998416\n",
      "4423056464\n"
     ]
    }
   ],
   "source": [
    "c1 = Atm()\n",
    "c2 = Atm()\n",
    "c3 = Atm()"
   ]
  },
  {
   "cell_type": "code",
   "execution_count": 42,
   "id": "f33aab4d",
   "metadata": {},
   "outputs": [
    {
     "data": {
      "text/plain": [
       "1"
      ]
     },
     "execution_count": 42,
     "metadata": {},
     "output_type": "execute_result"
    }
   ],
   "source": [
    "c1.cid"
   ]
  },
  {
   "cell_type": "code",
   "execution_count": 43,
   "id": "33c51d8b",
   "metadata": {},
   "outputs": [
    {
     "data": {
      "text/plain": [
       "2"
      ]
     },
     "execution_count": 43,
     "metadata": {},
     "output_type": "execute_result"
    }
   ],
   "source": [
    "c2.cid"
   ]
  },
  {
   "cell_type": "code",
   "execution_count": 44,
   "id": "ebd4f233",
   "metadata": {},
   "outputs": [
    {
     "data": {
      "text/plain": [
       "3"
      ]
     },
     "execution_count": 44,
     "metadata": {},
     "output_type": "execute_result"
    }
   ],
   "source": [
    "c3.cid"
   ]
  },
  {
   "cell_type": "code",
   "execution_count": 47,
   "id": "5188c5d2",
   "metadata": {},
   "outputs": [
    {
     "data": {
      "text/plain": [
       "4"
      ]
     },
     "execution_count": 47,
     "metadata": {},
     "output_type": "execute_result"
    }
   ],
   "source": [
    "Atm._Atm__counter"
   ]
  },
  {
   "cell_type": "code",
   "execution_count": 49,
   "id": "abef332f",
   "metadata": {},
   "outputs": [
    {
     "data": {
      "text/plain": [
       "4"
      ]
     },
     "execution_count": 49,
     "metadata": {},
     "output_type": "execute_result"
    }
   ],
   "source": [
    "c1.get_counter()"
   ]
  },
  {
   "cell_type": "code",
   "execution_count": 50,
   "id": "5f6ad7a3",
   "metadata": {},
   "outputs": [
    {
     "data": {
      "text/plain": [
       "4"
      ]
     },
     "execution_count": 50,
     "metadata": {},
     "output_type": "execute_result"
    }
   ],
   "source": [
    "Atm.get_counter()"
   ]
  },
  {
   "cell_type": "code",
   "execution_count": null,
   "id": "26cb3d42",
   "metadata": {},
   "outputs": [],
   "source": []
  }
 ],
 "metadata": {
  "kernelspec": {
   "display_name": "Python 3 (ipykernel)",
   "language": "python",
   "name": "python3"
  },
  "language_info": {
   "codemirror_mode": {
    "name": "ipython",
    "version": 3
   },
   "file_extension": ".py",
   "mimetype": "text/x-python",
   "name": "python",
   "nbconvert_exporter": "python",
   "pygments_lexer": "ipython3",
   "version": "3.11.5"
  }
 },
 "nbformat": 4,
 "nbformat_minor": 5
}
